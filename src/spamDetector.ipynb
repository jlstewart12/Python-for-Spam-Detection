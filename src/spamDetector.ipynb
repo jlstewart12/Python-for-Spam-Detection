{
 "cells": [
  {
   "cell_type": "markdown",
   "metadata": {},
   "source": [
    "In this notebook, Naïve Bayes theorem will be applied to a dataset that contains spam emails.\n",
    "Naïve Bayes is a classification technique based on Bayes theorem with an assumption of independence among predictors.\n",
    "\n",
    "For clarity, Bayes theorem is stated mathematically as the following equation:\n",
    "\n",
    "$$P(A | B) = \\frac{P(B|A)P(A)}{P(B)},$$\n",
    "\n",
    "where\n",
    "\n",
    " - $P(A| B)$ is a conditional probability: the likelihood of event $A$ occurring given that $B$ is true.\n",
    " - $P(B|A)$ is also a conditional probability: the likelihood of event $B$ occurring given that $A$ is true.\n",
    " - $P(A)$ and $P(B)$ are the probabilities of observing events $A$ and $B$.\n",
    "\n",
    "In simple terms, a Naïve Bayes classifier assumes that the presence of a particular feature in a *class* is unrelated to the presence of any other feature."
   ]
  },
  {
   "cell_type": "markdown",
   "metadata": {},
   "source": [
    "## Index:\n",
    "\n",
    "- [Part 1 - Importing the Dataset and Exploratory Data Analysis (EDA)](#part1)\n",
    "- [Part 2 - Shuffling  and Splitting the Emails](#part2)\n",
    "- [Part 3 - Building a Simple Naïve Bayes Classifier From Scratch](#part3)\n",
    "- [Part 4 - Explaining the Code Given in Part 3](#part4)\n",
    "- [Part 5 - Train the Classifier `train`](#part5)\n",
    "- [Part 6 - Explore the Performance of `train` Classifier ](#part6)\n",
    "- [Part 7 - Training the `train2` Classifier ](#part7)"
   ]
  },
  {
   "cell_type": "markdown",
   "metadata": {},
   "source": [
    "## The Naïve Bayes Algorithm\n",
    "\n",
    "You have now learned about the **Naïve Bayes algorithm** for classification. \n",
    "\n",
    "The pseudo-algorithm for Naïve Bayes can be summarized as follows: \n",
    "1. Load the training and test data.\n",
    "2. Shuffle the messages and split them.\n",
    "3. Build a simple Naïve Bayes classifier from scratch.\n",
    "4. Train the classifier and explore the performance."
   ]
  },
  {
   "cell_type": "markdown",
   "metadata": {},
   "source": [
    "[Back to top](#Index:) \n",
    "\n",
    "<a id='part1'></a>\n",
    "\n",
    "### Part 1: Importing the Dataset and  Exploratory Data Analysis (EDA)\n",
    "\n",
    "Using `pandas` to import the dataset. Importing `pandas` and then reading the file using the `.read_csv` *function* and passing the name of the dataset as a *string*.\n",
    "\n",
    "Because the rows in the dataset are separated using a `\\t`, the type of delimiter is specified in the `.read_csv()` *function*; the default value is `,`. Additionally, the list of column names to use is specified (`\"label\"` and `\"emails\"`)."
   ]
  },
  {
   "cell_type": "code",
   "execution_count": 1,
   "metadata": {},
   "outputs": [],
   "source": [
    "import pandas as pd\n",
    "\n",
    "emails = pd.read_csv('EmailSpamCollection', sep = '\\t', names = [\"label\", \"email\"])"
   ]
  },
  {
   "cell_type": "markdown",
   "metadata": {},
   "source": [
    "Before performing any algorithm on the *dataframe*, it is always good practice to perform exploratory data analysis.\n",
    "\n",
    "Begining by visualizing the first ten rows of the `df` *dataframe* using the `head()` *function*. By default, *`head()`* displays the first five rows of a *dataframe*."
   ]
  },
  {
   "cell_type": "code",
   "execution_count": 2,
   "metadata": {},
   "outputs": [
    {
     "data": {
      "text/html": [
       "<div>\n",
       "<style scoped>\n",
       "    .dataframe tbody tr th:only-of-type {\n",
       "        vertical-align: middle;\n",
       "    }\n",
       "\n",
       "    .dataframe tbody tr th {\n",
       "        vertical-align: top;\n",
       "    }\n",
       "\n",
       "    .dataframe thead th {\n",
       "        text-align: right;\n",
       "    }\n",
       "</style>\n",
       "<table border=\"1\" class=\"dataframe\">\n",
       "  <thead>\n",
       "    <tr style=\"text-align: right;\">\n",
       "      <th></th>\n",
       "      <th>label</th>\n",
       "      <th>email</th>\n",
       "    </tr>\n",
       "  </thead>\n",
       "  <tbody>\n",
       "    <tr>\n",
       "      <th>0</th>\n",
       "      <td>ham</td>\n",
       "      <td>Go until jurong point, crazy.. Available only ...</td>\n",
       "    </tr>\n",
       "    <tr>\n",
       "      <th>1</th>\n",
       "      <td>ham</td>\n",
       "      <td>Ok lar... Joking wif u oni...</td>\n",
       "    </tr>\n",
       "    <tr>\n",
       "      <th>2</th>\n",
       "      <td>spam</td>\n",
       "      <td>Free entry in 2 a wkly comp to win FA Cup fina...</td>\n",
       "    </tr>\n",
       "    <tr>\n",
       "      <th>3</th>\n",
       "      <td>ham</td>\n",
       "      <td>U dun say so early hor... U c already then say...</td>\n",
       "    </tr>\n",
       "    <tr>\n",
       "      <th>4</th>\n",
       "      <td>ham</td>\n",
       "      <td>Nah I don't think he goes to usf, he lives aro...</td>\n",
       "    </tr>\n",
       "  </tbody>\n",
       "</table>\n",
       "</div>"
      ],
      "text/plain": [
       "  label                                              email\n",
       "0   ham  Go until jurong point, crazy.. Available only ...\n",
       "1   ham                      Ok lar... Joking wif u oni...\n",
       "2  spam  Free entry in 2 a wkly comp to win FA Cup fina...\n",
       "3   ham  U dun say so early hor... U c already then say...\n",
       "4   ham  Nah I don't think he goes to usf, he lives aro..."
      ]
     },
     "execution_count": 2,
     "metadata": {},
     "output_type": "execute_result"
    }
   ],
   "source": [
    "emails.head(5)"
   ]
  },
  {
   "cell_type": "markdown",
   "metadata": {},
   "source": [
    "Next, more information is retrieved about the *dataframe* by using the `shape` and `columns` *methods* and the `describe()` *function*.\n",
    "\n",
    "Here's a brief description of what each of the above *functions* does:\n",
    "- `shape`: returns a *tuple* representing the dimensionality of the *dataframe*.\n",
    "- `columns`: returns the column labels of the *dataframe*.\n",
    "- `describe()`: returns summary statistics of the columns in the *dataframe* provided, such as mean, count, standard deviation, etc."
   ]
  },
  {
   "cell_type": "code",
   "execution_count": 3,
   "metadata": {},
   "outputs": [
    {
     "data": {
      "text/plain": [
       "(5572, 2)"
      ]
     },
     "execution_count": 3,
     "metadata": {},
     "output_type": "execute_result"
    }
   ],
   "source": [
    "emails.shape"
   ]
  },
  {
   "cell_type": "code",
   "execution_count": 4,
   "metadata": {},
   "outputs": [
    {
     "data": {
      "text/plain": [
       "Index(['label', 'email'], dtype='object')"
      ]
     },
     "execution_count": 4,
     "metadata": {},
     "output_type": "execute_result"
    }
   ],
   "source": [
    "emails.columns"
   ]
  },
  {
   "cell_type": "code",
   "execution_count": 5,
   "metadata": {},
   "outputs": [
    {
     "data": {
      "text/html": [
       "<div>\n",
       "<style scoped>\n",
       "    .dataframe tbody tr th:only-of-type {\n",
       "        vertical-align: middle;\n",
       "    }\n",
       "\n",
       "    .dataframe tbody tr th {\n",
       "        vertical-align: top;\n",
       "    }\n",
       "\n",
       "    .dataframe thead th {\n",
       "        text-align: right;\n",
       "    }\n",
       "</style>\n",
       "<table border=\"1\" class=\"dataframe\">\n",
       "  <thead>\n",
       "    <tr style=\"text-align: right;\">\n",
       "      <th></th>\n",
       "      <th>label</th>\n",
       "      <th>email</th>\n",
       "    </tr>\n",
       "  </thead>\n",
       "  <tbody>\n",
       "    <tr>\n",
       "      <th>count</th>\n",
       "      <td>5572</td>\n",
       "      <td>5572</td>\n",
       "    </tr>\n",
       "    <tr>\n",
       "      <th>unique</th>\n",
       "      <td>2</td>\n",
       "      <td>5169</td>\n",
       "    </tr>\n",
       "    <tr>\n",
       "      <th>top</th>\n",
       "      <td>ham</td>\n",
       "      <td>Sorry, I'll call later</td>\n",
       "    </tr>\n",
       "    <tr>\n",
       "      <th>freq</th>\n",
       "      <td>4825</td>\n",
       "      <td>30</td>\n",
       "    </tr>\n",
       "  </tbody>\n",
       "</table>\n",
       "</div>"
      ],
      "text/plain": [
       "       label                   email\n",
       "count   5572                    5572\n",
       "unique     2                    5169\n",
       "top      ham  Sorry, I'll call later\n",
       "freq    4825                      30"
      ]
     },
     "execution_count": 5,
     "metadata": {},
     "output_type": "execute_result"
    }
   ],
   "source": [
    "emails.describe()"
   ]
  },
  {
   "cell_type": "markdown",
   "metadata": {},
   "source": [
    "[Back to top](#Index:) \n",
    "\n",
    "<a id='part2'></a>\n",
    "\n",
    "### Part 2: Shuffling  and Splitting the Messages\n",
    "\n",
    "In the second part, emails are shuffled and split them into a training set (2,500 messages), a validation set (1,000 messages), and a test set (all remaining messages).\n",
    "\n",
    "Shuffling messages is done using the `sample` *function* from the `pandas` *library*.\n",
    "\n",
    "`frac` denotes the proportion of the *dataframe* to sample, and `random_state` is a random seed that ensures reproducibility of your results. \n",
    "\n",
    "Reset the *index* of `emails` to align with the shuffled emails by using the `reset_index` *function* with the appropriate *argument*. \n",
    "\n",
    "Here's a link for you where you can find the documentation about the [`reset_index()`](https://pandas.pydata.org/pandas-docs/stable/reference/api/pandas.DataFrame.reset_index.html) *function*."
   ]
  },
  {
   "cell_type": "code",
   "execution_count": 6,
   "metadata": {},
   "outputs": [],
   "source": [
    "emails = emails.sample(frac = 1, random_state = 0).reset_index(drop = True)"
   ]
  },
  {
   "cell_type": "markdown",
   "metadata": {},
   "source": [
    "Run the code cell below to visualize the updated *dataframe*."
   ]
  },
  {
   "cell_type": "code",
   "execution_count": 7,
   "metadata": {},
   "outputs": [
    {
     "data": {
      "text/html": [
       "<div>\n",
       "<style scoped>\n",
       "    .dataframe tbody tr th:only-of-type {\n",
       "        vertical-align: middle;\n",
       "    }\n",
       "\n",
       "    .dataframe tbody tr th {\n",
       "        vertical-align: top;\n",
       "    }\n",
       "\n",
       "    .dataframe thead th {\n",
       "        text-align: right;\n",
       "    }\n",
       "</style>\n",
       "<table border=\"1\" class=\"dataframe\">\n",
       "  <thead>\n",
       "    <tr style=\"text-align: right;\">\n",
       "      <th></th>\n",
       "      <th>label</th>\n",
       "      <th>email</th>\n",
       "    </tr>\n",
       "  </thead>\n",
       "  <tbody>\n",
       "    <tr>\n",
       "      <th>0</th>\n",
       "      <td>ham</td>\n",
       "      <td>Storming msg: Wen u lift d phne, u say \"HELLO\"...</td>\n",
       "    </tr>\n",
       "    <tr>\n",
       "      <th>1</th>\n",
       "      <td>spam</td>\n",
       "      <td>&lt;Forwarded from 448712404000&gt;Please CALL 08712...</td>\n",
       "    </tr>\n",
       "    <tr>\n",
       "      <th>2</th>\n",
       "      <td>ham</td>\n",
       "      <td>And also I've sorta blown him off a couple tim...</td>\n",
       "    </tr>\n",
       "    <tr>\n",
       "      <th>3</th>\n",
       "      <td>ham</td>\n",
       "      <td>Sir Goodmorning, Once free call me.</td>\n",
       "    </tr>\n",
       "    <tr>\n",
       "      <th>4</th>\n",
       "      <td>ham</td>\n",
       "      <td>All will come alive.better correct any good lo...</td>\n",
       "    </tr>\n",
       "  </tbody>\n",
       "</table>\n",
       "</div>"
      ],
      "text/plain": [
       "  label                                              email\n",
       "0   ham  Storming msg: Wen u lift d phne, u say \"HELLO\"...\n",
       "1  spam  <Forwarded from 448712404000>Please CALL 08712...\n",
       "2   ham  And also I've sorta blown him off a couple tim...\n",
       "3   ham                Sir Goodmorning, Once free call me.\n",
       "4   ham  All will come alive.better correct any good lo..."
      ]
     },
     "execution_count": 7,
     "metadata": {},
     "output_type": "execute_result"
    }
   ],
   "source": [
    "emails.head()"
   ]
  },
  {
   "cell_type": "markdown",
   "metadata": {},
   "source": [
    "Next, emails are split into a training set (the first 2,500 emails in the *dataframe*), a validation set (the next 1,000 emails), and a testing set (the remaining emails). These three sets will be defined as `trainingMsgs`, `valMsgs`, and `testingMsgs`.\n",
    "\n",
    "In the code cell below, the messages and their correspoding labels are defined. Then messages are split into the required sets according to the instructions."
   ]
  },
  {
   "cell_type": "code",
   "execution_count": 8,
   "metadata": {},
   "outputs": [],
   "source": [
    "email = list(emails.email) \n",
    "lbls =list(emails.label) \n",
    "trainingEmail = email[:2500] \n",
    "valEmail = email[2500:3500] \n",
    "testingEmail = email[3500:]"
   ]
  },
  {
   "cell_type": "markdown",
   "metadata": {},
   "source": [
    "The cell below splits the labels into a training set, a validation set, and a test set."
   ]
  },
  {
   "cell_type": "code",
   "execution_count": 9,
   "metadata": {},
   "outputs": [],
   "source": [
    "traininglbls = lbls[:2500] \n",
    "vallbls = lbls[2500:3500] \n",
    "testinglbls = lbls[3500:]"
   ]
  },
  {
   "cell_type": "markdown",
   "metadata": {},
   "source": [
    "[Back to top](#Index:) \n",
    "\n",
    "<a id='part3'></a>\n",
    "\n",
    "### Part 3: Building a Simple Naïve Bayes Classifier From Scratch\n",
    "\n",
    "While Python’s SciKit-learn *library* has a [Naïve Bayes classifier](https://scikit-learn.org/stable/modules/naive_bayes.html), it works with continuous probability distributions and assumes numerical features. \n",
    "\n",
    "Here is a simple Naïve Bayes classifier built from scratch."
   ]
  },
  {
   "cell_type": "code",
   "execution_count": 10,
   "metadata": {},
   "outputs": [],
   "source": [
    "import numpy as np\n",
    "\n",
    "\n",
    "class NaiveBayesForSpam:\n",
    "    def train (self, nonSPamMessages, spamMessages):\n",
    "        self.words = set (' '.join (nonSPamMessages + spamMessages).split())\n",
    "        self.priors = np.zeros (2)\n",
    "        self.priors[0] = float (len (nonSPamMessages)) / (len (nonSPamMessages) + len (spamMessages))\n",
    "        self.priors[1] = 1.0 - self.priors[0]\n",
    "        self.likelihoods = []\n",
    "        for i, w in enumerate (self.words):\n",
    "            prob1 = (1.0 + len ([m for m in nonSPamMessages if w in m])) / len (nonSPamMessages)\n",
    "            prob2 = (1.0 + len ([m for m in spamMessages if w in m])) / len (spamMessages)\n",
    "            self.likelihoods.append ([min (prob1, 0.95), min (prob2, 0.95)])\n",
    "        self.likelihoods = np.array (self.likelihoods).T\n",
    "        \n",
    "    def predict (self, message):\n",
    "        posteriors = np.copy (self.priors)\n",
    "        for i, w in enumerate (self.words):\n",
    "            if w in message.lower():  # convert to lower-case\n",
    "                posteriors *= self.likelihoods[:,i]\n",
    "            else:                                   \n",
    "                posteriors *= np.ones (2) - self.likelihoods[:,i]\n",
    "            posteriors = posteriors / np.linalg.norm (posteriors)  # normalize\n",
    "        if posteriors[0] > 0.5:\n",
    "            return ['ham', posteriors[0]]\n",
    "        return ['spam', posteriors[1]]    \n",
    "\n",
    "    def score (self, messages, labels):\n",
    "        confusion = np.zeros(4).reshape (2,2)\n",
    "        for m, l in zip (messages, labels):\n",
    "            if self.predict(m)[0] == 'ham' and l == 'ham':\n",
    "                confusion[0,0] += 1\n",
    "            elif self.predict(m)[0] == 'ham' and l == 'spam':\n",
    "                confusion[0,1] += 1\n",
    "            elif self.predict(m)[0] == 'spam' and l == 'ham':\n",
    "                confusion[1,0] += 1\n",
    "            elif self.predict(m)[0] == 'spam' and l == 'spam':\n",
    "                confusion[1,1] += 1\n",
    "        return (confusion[0,0] + confusion[1,1]) / float (confusion.sum()), confusion"
   ]
  },
  {
   "cell_type": "markdown",
   "metadata": {},
   "source": [
    "[Back to top](#Index:) \n",
    "\n",
    "<a id='part4'></a>\n",
    "\n",
    "### Part 4: Explaining the Code Provided in Part 3\n",
    "\n",
    "Before explaining the code that was provided in Part 3, it is important to have some level of intuition as to what a spam email message might look like. Usually they have words designed to catch your eye and, in some sense, to tempt you to open them. Also, spam emails tend to have words written in all capital letters and use a lot of exclamation marks.\n",
    "\n",
    "The `train` *function* calculates and stores the prior probabilities and likelihoods based on the training dataset. In Naïve Bayes, this is all the training phase does. \n",
    "\n",
    "The `predict` *function* repeatedly applies the Naïve Bayes theorem to every word in the constructed *dictionary* and, based on the posterior probability, it classifies each email as `spam` or `non-spam`. The `score` *function* calls `predict` for multiple emails and compares the outcomes with the supplied `ground truth` labels, thus evaluating the classifier. It also computes and returns a confusion matrix."
   ]
  },
  {
   "cell_type": "markdown",
   "metadata": {},
   "source": [
    "[Back to top](#Index:) \n",
    "\n",
    "<a id='part5'></a>\n",
    "\n",
    "### Part 5: Training the `train`  Classifier\n",
    "\n",
    "Looking at the definition of the `train` *function* in Part 2, you can see that the training *functions* require the `non-spam` and `spam` emails to be passed on separately.\n",
    "\n",
    "The `non-spam` emails can be passed using the code given below:"
   ]
  },
  {
   "cell_type": "code",
   "execution_count": 11,
   "metadata": {},
   "outputs": [],
   "source": [
    "nonSpamEmails = [m for (m, l) in zip(trainingEmail, traininglbls) if 'ham' in l]"
   ]
  },
  {
   "cell_type": "markdown",
   "metadata": {},
   "source": [
    "The cell below to passes the spam emails."
   ]
  },
  {
   "cell_type": "code",
   "execution_count": 12,
   "metadata": {},
   "outputs": [],
   "source": [
    "spamEmails = [m for (m, l) in zip(trainingEmail, traininglbls) if 'spam' in l]"
   ]
  },
  {
   "cell_type": "markdown",
   "metadata": {},
   "source": [
    "Run the cell below to see how many `non-spam` and `spam` emails there are."
   ]
  },
  {
   "cell_type": "code",
   "execution_count": 13,
   "metadata": {},
   "outputs": [
    {
     "name": "stdout",
     "output_type": "stream",
     "text": [
      "2170\n",
      "330\n"
     ]
    }
   ],
   "source": [
    "print(len(nonSpamEmails))\n",
    "print(len(spamEmails))"
   ]
  },
  {
   "cell_type": "markdown",
   "metadata": {},
   "source": [
    "Their sum equals 2,500 as expected. \n",
    "\n",
    "Next, the classifier is created for the analysis using the `NaiveBayesForSpam`*function*. \n",
    "\n",
    "After that, `non-spammsgs` and `spammsgs` are trained using the `train` *function*."
   ]
  },
  {
   "cell_type": "code",
   "execution_count": 14,
   "metadata": {},
   "outputs": [],
   "source": [
    "clf = NaiveBayesForSpam()\n",
    "clf.train(nonSpamEmails, spamEmails)"
   ]
  },
  {
   "cell_type": "markdown",
   "metadata": {},
   "source": [
    "[Back to top](#Index:) \n",
    "\n",
    "<a id='part6'></a>\n",
    "\n",
    "### Part 6: Exploring the Performance of the `train` Classifier\n",
    "\n",
    "Explore the performance of the two classifiers on the *validation set* by using the `.score()` *function*.\n",
    "\n",
    "\n",
    "**IMPORTANT NOTE: Results in the following sections will change. This is expected and due to the random shuffling. The results will be different for each shuffling. To ensure reproducible results, define `random_state` in the `sample` *method* when shuffling the data in [Part 2: Shuffling and Splitting the Text Messages](#part2).**"
   ]
  },
  {
   "cell_type": "code",
   "execution_count": 15,
   "metadata": {},
   "outputs": [],
   "source": [
    "score, confusion = clf.score (valEmail, vallbls)"
   ]
  },
  {
   "cell_type": "markdown",
   "metadata": {},
   "source": [
    "The code below prints the score and the confusion matrix."
   ]
  },
  {
   "cell_type": "code",
   "execution_count": 16,
   "metadata": {},
   "outputs": [
    {
     "name": "stdout",
     "output_type": "stream",
     "text": [
      "The overall performance is: 0.977\n"
     ]
    }
   ],
   "source": [
    "print(\"The overall performance is:\", score)"
   ]
  },
  {
   "cell_type": "code",
   "execution_count": 17,
   "metadata": {},
   "outputs": [
    {
     "name": "stdout",
     "output_type": "stream",
     "text": [
      "The confusion matrix is:\n",
      " [[864.  20.]\n",
      " [  3. 113.]]\n"
     ]
    }
   ],
   "source": [
    "print(\"The confusion matrix is:\\n\", confusion)"
   ]
  },
  {
   "cell_type": "markdown",
   "metadata": {},
   "source": [
    "The data is not equally divided into the two *classes*. As a baseline, let’s see what the success rate would be if you always guessed non-spam.\n",
    "\n",
    "Run the code cell below to *print* the new score."
   ]
  },
  {
   "cell_type": "code",
   "execution_count": 18,
   "metadata": {},
   "outputs": [
    {
     "name": "stdout",
     "output_type": "stream",
     "text": [
      "new_score 0.867\n"
     ]
    }
   ],
   "source": [
    "print('new_score', len([1 for l in vallbls if 'ham' in l]) / float (len ( vallbls)))"
   ]
  },
  {
   "cell_type": "markdown",
   "metadata": {},
   "source": [
    "Comparing the baseline score to the performance on the validation set to see which is better.\n",
    "\n",
    "The sample error can also be generated by calculating the score and the confusion matrix on the training set."
   ]
  },
  {
   "cell_type": "code",
   "execution_count": 19,
   "metadata": {},
   "outputs": [],
   "source": [
    "#Note: this cell may take a LONG time to run!\n",
    "score, confusion = clf.score (trainingEmail, traininglbls)"
   ]
  },
  {
   "cell_type": "code",
   "execution_count": 20,
   "metadata": {},
   "outputs": [
    {
     "name": "stdout",
     "output_type": "stream",
     "text": [
      "The overall performance is: 0.9796\n"
     ]
    }
   ],
   "source": [
    "print(\"The overall performance is:\", score)"
   ]
  },
  {
   "cell_type": "code",
   "execution_count": 21,
   "metadata": {},
   "outputs": [
    {
     "name": "stdout",
     "output_type": "stream",
     "text": [
      "The confusion matrix is:\n",
      " [[2.169e+03 5.000e+01]\n",
      " [1.000e+00 2.800e+02]]\n"
     ]
    }
   ],
   "source": [
    "print(\"The confusion matrix is:\\n\", confusion)"
   ]
  },
  {
   "cell_type": "markdown",
   "metadata": {},
   "source": [
    "[Back to top](#Index:) \n",
    "\n",
    "<a id='part7'></a>\n",
    "\n",
    "### Part 7: Training the `train2` Classifier\n",
    "\n",
    "In this section, a second classifier is defined, `train2`, and its performances compared to the `train` classifier defined above.\n",
    "\n",
    "The `train2` classifier is defined in the code cell below."
   ]
  },
  {
   "cell_type": "code",
   "execution_count": 22,
   "metadata": {},
   "outputs": [],
   "source": [
    "class NaiveBayesForSpam:\n",
    "    def train2 ( self , nonSpamMessages , spamMessages) :\n",
    "            self.words = set (' '.join (nonSpamMessages + spamMessages).split())\n",
    "            self.priors = np. zeros (2)\n",
    "            self.priors [0] = float (len (nonSpamMessages)) / (len (nonSpamMessages) +len( spamMessages ) )\n",
    "            self.priors [1] = 1.0 - self . priors [0] \n",
    "            self.likelihoods = []\n",
    "            spamkeywords = [ ]\n",
    "            for i, w in enumerate (self.words):\n",
    "                prob1 = (1.0 + len ([m for m in nonSpamMessages if w in m])) /len ( nonSpamMessages )\n",
    "                prob2 = (1.0 + len ([m for m in spamMessages if w in m])) /len ( spamMessages ) \n",
    "                if prob1 * 20 < prob2:\n",
    "                    self.likelihoods.append([min (prob1 , 0.95) , min (prob2 , 0.95) ])\n",
    "                    spamkeywords . append (w) \n",
    "            self.words = spamkeywords\n",
    "            self.likelihoods = np.array (self.likelihoods).T \n",
    "            \n",
    "    def predict (self, message):\n",
    "        posteriors = np.copy (self.priors)\n",
    "        for i, w in enumerate (self.words):\n",
    "            if w in message.lower():  # convert to lower-case\n",
    "                posteriors *= self.likelihoods[:,i]\n",
    "            else:                                   \n",
    "                posteriors *= np.ones (2) - self.likelihoods[:,i]\n",
    "            posteriors = posteriors / np.linalg.norm (posteriors)  # normalise\n",
    "        if posteriors[0] > 0.5:\n",
    "            return ['ham', posteriors[0]]\n",
    "        return ['spam', posteriors[1]]    \n",
    "\n",
    "    def score (self, messages, labels):\n",
    "        confusion = np.zeros(4).reshape (2,2)\n",
    "        for m, l in zip (messages, labels):\n",
    "            if self.predict(m)[0] == 'ham' and l == 'ham':\n",
    "                confusion[0,0] += 1\n",
    "            elif self.predict(m)[0] == 'ham' and l == 'spam':\n",
    "                confusion[0,1] += 1\n",
    "            elif self.predict(m)[0] == 'spam' and l == 'ham':\n",
    "                confusion[1,0] += 1\n",
    "            elif self.predict(m)[0] == 'spam' and l == 'spam':\n",
    "                confusion[1,1] += 1\n",
    "        return (confusion[0,0] + confusion[1,1]) / float (confusion.sum()), confusion"
   ]
  },
  {
   "cell_type": "markdown",
   "metadata": {},
   "source": [
    "Next, the classifier is updadted for the analysis using the `NaiveBayesForSpam` *function*. The cell below creates the `clf` classifier.\n",
    "\n",
    "Then, training `non-spammsgs` and `spammsgs` using the `train2` *function*."
   ]
  },
  {
   "cell_type": "code",
   "execution_count": 23,
   "metadata": {},
   "outputs": [],
   "source": [
    "clf = NaiveBayesForSpam()\n",
    "clf.train2(nonSpamEmails, spamEmails)"
   ]
  },
  {
   "cell_type": "markdown",
   "metadata": {},
   "source": [
    "Re-computing the score and the confusion matrix on the validation set using the updated classifier."
   ]
  },
  {
   "cell_type": "code",
   "execution_count": 24,
   "metadata": {},
   "outputs": [],
   "source": [
    "#Again, this cell may take a long time to run!\n",
    "score_2, confusion_2 = clf.score(trainingEmail, traininglbls)"
   ]
  },
  {
   "cell_type": "markdown",
   "metadata": {},
   "source": [
    "Running the code cells below gets the updated values."
   ]
  },
  {
   "cell_type": "code",
   "execution_count": 25,
   "metadata": {},
   "outputs": [
    {
     "name": "stdout",
     "output_type": "stream",
     "text": [
      "The overall performance is:  0.9804\n"
     ]
    }
   ],
   "source": [
    "print(\"The overall performance is: \", score_2)"
   ]
  },
  {
   "cell_type": "code",
   "execution_count": 26,
   "metadata": {},
   "outputs": [
    {
     "name": "stdout",
     "output_type": "stream",
     "text": [
      "The confusion matrix is:\n",
      " [[2163.   42.]\n",
      " [   7.  288.]]\n"
     ]
    }
   ],
   "source": [
    "print(\"The confusion matrix is:\\n\", confusion_2)"
   ]
  },
  {
   "cell_type": "markdown",
   "metadata": {},
   "source": [
    "**Takeaways**\n",
    "\n",
    "The `train2` classifier is faster and more accurate than the `train` classifier.\n",
    "\n",
    "Both `train` and `train2` successfully determine whether an email is spam or normal. However, `train2` contains an `if` statement that further distinguishes the emails as `normal` or `spam` improving the accuracy of the classifier."
   ]
  }
 ],
 "metadata": {
  "kernelspec": {
   "display_name": "Python 3.10.4 64-bit",
   "language": "python",
   "name": "python3"
  },
  "language_info": {
   "codemirror_mode": {
    "name": "ipython",
    "version": 3
   },
   "file_extension": ".py",
   "mimetype": "text/x-python",
   "name": "python",
   "nbconvert_exporter": "python",
   "pygments_lexer": "ipython3",
   "version": "3.10.4"
  },
  "vscode": {
   "interpreter": {
    "hash": "2062cc87de9fb55535cca9844507a47b3f552bfebb5ac26a221023bf2ac4a711"
   }
  }
 },
 "nbformat": 4,
 "nbformat_minor": 4
}
